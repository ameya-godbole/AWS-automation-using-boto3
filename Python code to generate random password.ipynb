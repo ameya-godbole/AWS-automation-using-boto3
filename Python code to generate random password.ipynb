{
 "cells": [
  {
   "cell_type": "code",
   "execution_count": 4,
   "id": "22e6e159",
   "metadata": {},
   "outputs": [],
   "source": [
    "from random import choice"
   ]
  },
  {
   "cell_type": "code",
   "execution_count": 5,
   "id": "3d103cfe",
   "metadata": {},
   "outputs": [],
   "source": [
    "len_of_password=8\n",
    "valid_chars_for_password=\"abcdefghijklmnopqrstuvwxyz0123456789ABCDEFGHIJKLMNOPQRSTUVWXYZ!@#$%^&*()?\""
   ]
  },
  {
   "cell_type": "code",
   "execution_count": 8,
   "id": "e197ee16",
   "metadata": {},
   "outputs": [
    {
     "name": "stdout",
     "output_type": "stream",
     "text": [
      "X6XMOy8i\n"
     ]
    }
   ],
   "source": [
    "password =[]\n",
    "\n",
    "for each_char in range(len_of_password):\n",
    "    password.append(choice(valid_chars_for_password))\n",
    "    \n",
    "random_pass=\"\".join(password)\n",
    "\n",
    "print(random_pass)"
   ]
  }
 ],
 "metadata": {
  "kernelspec": {
   "display_name": "Python 3 (ipykernel)",
   "language": "python",
   "name": "python3"
  },
  "language_info": {
   "codemirror_mode": {
    "name": "ipython",
    "version": 3
   },
   "file_extension": ".py",
   "mimetype": "text/x-python",
   "name": "python",
   "nbconvert_exporter": "python",
   "pygments_lexer": "ipython3",
   "version": "3.9.7"
  }
 },
 "nbformat": 4,
 "nbformat_minor": 5
}
