{
 "cells": [
  {
   "cell_type": "code",
   "execution_count": 11,
   "id": "bedfd3a7",
   "metadata": {},
   "outputs": [
    {
     "name": "stdout",
     "output_type": "stream",
     "text": [
      "Boto3 imported successfully\n"
     ]
    }
   ],
   "source": [
    "import os, sys\n",
    "\n",
    "try:\n",
    "    import boto3\n",
    "    print('Boto3 imported successfully')\n",
    "except Exception as e:\n",
    "    print(e)\n",
    "    sys.exit(1)"
   ]
  },
  {
   "cell_type": "code",
   "execution_count": 21,
   "id": "fbb0c6e2",
   "metadata": {},
   "outputs": [
    {
     "name": "stdout",
     "output_type": "stream",
     "text": [
      "EBS snapshot copy to destion region is completed\n",
      "modifyng tags for which backup is done\n"
     ]
    }
   ],
   "source": [
    "source_region='us-east-1'\n",
    "dest_region='us-east2'\n",
    "\n",
    "session=boto3.session.Session(profile_name='root')\n",
    "ec2_source_client=session.client(service_name='ec2', region_name=source_region)\n",
    "\n",
    "sts_client=session.client(service_name='sts', region_name='us-east-1')\n",
    "account_id=sts_client.get_caller_identity().get('Account')\n",
    "\n",
    "f1={'Name':'tag:backup', 'Values':['yes']}\n",
    "\n",
    "backup_snap=[]\n",
    "for each_snap in ec2_source_client.describe_snapshots(OwnerIds=[account_id], Filters=[f1]).get('Snapshots'):\n",
    "    backup_snap.append(each_snap.get('SnapshotId'))\n",
    "    \n",
    "ec2_dest_client=session.client(service_name='ec2',region_name=dest_region)\n",
    "\n",
    "\n",
    "for each_source_snapid in backup_snap:\n",
    "    print('Taking backup of {}into the region {}'.format(each_source_snapid,dest_region))\n",
    "    ec2_dest_client.cpoy_snapshot(\n",
    "        Description='Disaster recovery',\n",
    "        SourceRegion=source_region,\n",
    "        SourceSnapshotId=each_source_snapid,\n",
    "        )\n",
    "    \n",
    "    \n",
    "print('EBS snapshot copy to destion region is completed')\n",
    "print('modifyng tags for which backup is done')\n",
    "\n",
    "for each_source_snapid in backup_snap:\n",
    "    \n",
    "    print('deleting old tags for {}'.format(each_source_snapid))\n",
    "    ec2_source_client.delete_tags(\n",
    "        Resources=[ach_source_snapid],\n",
    "        Tags=[\n",
    "        {\n",
    "        'Key':'backup',\n",
    "        'Value':'yes'    \n",
    "        }    \n",
    "        ]\n",
    "        )\n",
    "    print(\"creating new tags for {}\".format(each_source_snapid))   \n",
    "    ec2_source_client.create_tags(   \n",
    "        Resources=[ach_source_snapid],\n",
    "        Tags=[\n",
    "        {\n",
    "        'Key':'backup',\n",
    "        'Value':'completed'    \n",
    "        }    \n",
    "        ]\n",
    "        )\n",
    "    \n",
    "    \n",
    "    \n",
    "    "
   ]
  },
  {
   "cell_type": "code",
   "execution_count": null,
   "id": "76dbfdf8",
   "metadata": {},
   "outputs": [],
   "source": []
  }
 ],
 "metadata": {
  "kernelspec": {
   "display_name": "Python 3 (ipykernel)",
   "language": "python",
   "name": "python3"
  },
  "language_info": {
   "codemirror_mode": {
    "name": "ipython",
    "version": 3
   },
   "file_extension": ".py",
   "mimetype": "text/x-python",
   "name": "python",
   "nbconvert_exporter": "python",
   "pygments_lexer": "ipython3",
   "version": "3.9.7"
  }
 },
 "nbformat": 4,
 "nbformat_minor": 5
}
