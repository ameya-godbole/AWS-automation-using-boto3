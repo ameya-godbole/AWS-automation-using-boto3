{
 "cells": [
  {
   "cell_type": "code",
   "execution_count": 1,
   "id": "00ce3751",
   "metadata": {},
   "outputs": [],
   "source": [
    "import boto3\n",
    "import sys"
   ]
  },
  {
   "cell_type": "code",
   "execution_count": 2,
   "id": "b4936a21",
   "metadata": {},
   "outputs": [],
   "source": [
    "man_cons=boto3.session.Session(profile_name='root')\n",
    "ec2_cons=man_cons.resource(service_name='ec2', region_name='us-east-1')"
   ]
  },
  {
   "cell_type": "code",
   "execution_count": null,
   "id": "0bc53d8b",
   "metadata": {},
   "outputs": [
    {
     "name": "stdout",
     "output_type": "stream",
     "text": [
      "\n",
      "            Choose what you want to do:\n",
      "            1. Start an instance\n",
      "            2. Stop an instance\n",
      "            3. Terminate an instance\n",
      "            4. Exit\n"
     ]
    }
   ],
   "source": [
    "while True:\n",
    "    print('''\n",
    "            Choose what you want to do:\n",
    "            1. Start an instance\n",
    "            2. Stop an instance\n",
    "            3. Terminate an instance\n",
    "            4. Exit''')\n",
    "    \n",
    "    option=int(input('Enter your choice: '))\n",
    "    \n",
    "    if option==1:\n",
    "        instance_id = input('Enter your instance id')\n",
    "        my_instance_object=ec2.cons.Instance(instance_id)\n",
    "        print(\"Starting the ec2 instance...\")\n",
    "        my_instance_object.start()\n",
    "        \n",
    "    elif option==2:\n",
    "        instance_id = input('Enter your instance id')\n",
    "        my_instance_object=ec2.cons.Instance(instance_id)\n",
    "        print(\"Stopping your ec2 instance...\")\n",
    "        my_instance_object.stop()\n",
    "        \n",
    "    elif option==3:\n",
    "        instance_id = input('Enter your instance id')\n",
    "        my_instance_object=ec2.cons.Instance(instance_id)\n",
    "        print(\"Terminating your ec2 instance...\")\n",
    "        my_instance_object.terminate()\n",
    "        \n",
    "    elif option==4:\n",
    "        print(\"Thankyou for using this script...\")\n",
    "        sys.exit()\n",
    "    \n",
    "    else:\n",
    "        print(\"Your option is invalid. Try again\")"
   ]
  }
 ],
 "metadata": {
  "kernelspec": {
   "display_name": "Python 3 (ipykernel)",
   "language": "python",
   "name": "python3"
  },
  "language_info": {
   "codemirror_mode": {
    "name": "ipython",
    "version": 3
   },
   "file_extension": ".py",
   "mimetype": "text/x-python",
   "name": "python",
   "nbconvert_exporter": "python",
   "pygments_lexer": "ipython3",
   "version": "3.9.7"
  }
 },
 "nbformat": 4,
 "nbformat_minor": 5
}
