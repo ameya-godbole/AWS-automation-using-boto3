{
 "cells": [
  {
   "cell_type": "code",
   "execution_count": 52,
   "id": "9a5ba358",
   "metadata": {},
   "outputs": [],
   "source": [
    "import boto3\n",
    "from pprint import pprint"
   ]
  },
  {
   "cell_type": "code",
   "execution_count": 53,
   "id": "8ef9e738",
   "metadata": {},
   "outputs": [],
   "source": [
    "session=boto3.session.Session(profile_name='root')"
   ]
  },
  {
   "cell_type": "code",
   "execution_count": 54,
   "id": "c4620923",
   "metadata": {},
   "outputs": [],
   "source": [
    "ec2_client=session.client('ec2', 'us-east-1')"
   ]
  },
  {
   "cell_type": "code",
   "execution_count": 55,
   "id": "d238695a",
   "metadata": {
    "scrolled": true
   },
   "outputs": [
    {
     "name": "stdout",
     "output_type": "stream",
     "text": [
      "'vol-08266cdbbe4ffa7dc'\n",
      "'vol-08723040e790b8d88'\n"
     ]
    }
   ],
   "source": [
    "for each_vol in ec2_client.describe_volumes()['Volumes']:\n",
    "    pprint(each_vol['VolumeId'])"
   ]
  },
  {
   "cell_type": "code",
   "execution_count": 56,
   "id": "ac53ffe3",
   "metadata": {
    "scrolled": true
   },
   "outputs": [
    {
     "name": "stdout",
     "output_type": "stream",
     "text": [
      "The list of Volume ids is:  ['vol-08266cdbbe4ffa7dc']\n"
     ]
    }
   ],
   "source": [
    "f1={'Name':'tag:prod','Values':['backup','Backup']}\n",
    "\n",
    "list_of_volids=[]\n",
    "\n",
    "for each_vol in ec2_client.describe_volumes(Filters=[f1])['Volumes']:\n",
    "    list_of_volids.append(each_vol['VolumeId'])\n",
    "    \n",
    "print('The list of Volume ids is: ', list_of_volids)\n"
   ]
  },
  {
   "cell_type": "code",
   "execution_count": 59,
   "id": "801fcf71",
   "metadata": {},
   "outputs": [
    {
     "name": "stdout",
     "output_type": "stream",
     "text": [
      "<botocore.paginate.PageIterator object at 0x0000014C02A6CD90>\n",
      "['vol-08266cdbbe4ffa7dc']\n"
     ]
    }
   ],
   "source": [
    "#use paginator to get list of volumes\n",
    "\n",
    "paginator = ec2_client.get_paginator('describe_volumes')\n",
    "\n",
    "print(paginator.paginate(Filter=[f1]))\n",
    "\n",
    "list_of_volidss=[]\n",
    "for page in paginator.paginate(Filters=[f1]):\n",
    "    for volume in page['Volumes']:\n",
    "        list_of_volidss.append(volume['VolumeId'])\n",
    "        \n",
    "print(list_of_volidss)"
   ]
  },
  {
   "cell_type": "code",
   "execution_count": 60,
   "id": "323b9434",
   "metadata": {},
   "outputs": [
    {
     "name": "stdout",
     "output_type": "stream",
     "text": [
      "Taking snapshot of volume vol-08266cdbbe4ffa7dc\n"
     ]
    }
   ],
   "source": [
    "#creating snap of each volume \n",
    "\n",
    "import time\n",
    "\n",
    "snapids=[]\n",
    "\n",
    "for volume in list_of_volidss:\n",
    "    print(\"Taking snapshot of volume {}\".format(volume))\n",
    "    response= ec2_client.create_snapshot(\n",
    "        Description='snapshot with lambda and cw',\n",
    "        VolumeId=volume)\n",
    "        \n",
    "    snapids.append(response.get('SnapshotId'))\n",
    "    time.sleep(15)\n",
    "\n",
    "    \n",
    "    \n",
    "waiter=ec2_client.get_waiter('snapshot_completed')            \n",
    "waiter.wait(SnapshotIds=snapids)"
   ]
  }
 ],
 "metadata": {
  "kernelspec": {
   "display_name": "Python 3 (ipykernel)",
   "language": "python",
   "name": "python3"
  },
  "language_info": {
   "codemirror_mode": {
    "name": "ipython",
    "version": 3
   },
   "file_extension": ".py",
   "mimetype": "text/x-python",
   "name": "python",
   "nbconvert_exporter": "python",
   "pygments_lexer": "ipython3",
   "version": "3.9.7"
  }
 },
 "nbformat": 4,
 "nbformat_minor": 5
}
