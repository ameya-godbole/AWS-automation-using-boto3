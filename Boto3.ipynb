{
 "cells": [
  {
   "cell_type": "code",
   "execution_count": 1,
   "id": "9b25c338",
   "metadata": {},
   "outputs": [],
   "source": [
    "import boto3"
   ]
  },
  {
   "cell_type": "code",
   "execution_count": 2,
   "id": "4890bd66",
   "metadata": {},
   "outputs": [],
   "source": [
    "main_con=boto3.session.Session(profile_name='root')"
   ]
  },
  {
   "cell_type": "code",
   "execution_count": 3,
   "id": "4cf61eb0",
   "metadata": {},
   "outputs": [],
   "source": [
    "iam_con=main_con.resource('iam')"
   ]
  },
  {
   "cell_type": "code",
   "execution_count": 4,
   "id": "3bcdeee9",
   "metadata": {},
   "outputs": [
    {
     "name": "stdout",
     "output_type": "stream",
     "text": [
      "ameya-user\n",
      "user-for-s3-glacier-transfer\n",
      "vprofile-s3-admin\n"
     ]
    }
   ],
   "source": [
    "for user in iam_con.users.all():\n",
    "    print(user.name)"
   ]
  },
  {
   "cell_type": "code",
   "execution_count": 5,
   "id": "0cf6b971",
   "metadata": {},
   "outputs": [],
   "source": [
    "#boto3 scripts for ec2 service"
   ]
  },
  {
   "cell_type": "code",
   "execution_count": 9,
   "id": "b111c84f",
   "metadata": {},
   "outputs": [],
   "source": [
    "ec2_console = main_con.client(service_name='ec2', region_name='us-east-1')"
   ]
  },
  {
   "cell_type": "code",
   "execution_count": 18,
   "id": "a34003c5",
   "metadata": {},
   "outputs": [
    {
     "name": "stdout",
     "output_type": "stream",
     "text": [
      "'ami-0022f774911c1d690'\n",
      "'ami-0015b9ef68c77328d'\n"
     ]
    }
   ],
   "source": [
    "from pprint import pprint\n",
    "# pprint gives output in clear structure\n",
    "\n",
    "#Script to get image id of each instance\n",
    "\n",
    "# \n",
    "response = ec2_console.describe_instances()['Reservations']\n",
    "for item in response:\n",
    "    for instance in item['Instances']:\n",
    "        pprint(instance['ImageId'])"
   ]
  },
  {
   "cell_type": "code",
   "execution_count": null,
   "id": "109d1520",
   "metadata": {},
   "outputs": [],
   "source": []
  }
 ],
 "metadata": {
  "kernelspec": {
   "display_name": "Python 3 (ipykernel)",
   "language": "python",
   "name": "python3"
  },
  "language_info": {
   "codemirror_mode": {
    "name": "ipython",
    "version": 3
   },
   "file_extension": ".py",
   "mimetype": "text/x-python",
   "name": "python",
   "nbconvert_exporter": "python",
   "pygments_lexer": "ipython3",
   "version": "3.9.7"
  }
 },
 "nbformat": 4,
 "nbformat_minor": 5
}
