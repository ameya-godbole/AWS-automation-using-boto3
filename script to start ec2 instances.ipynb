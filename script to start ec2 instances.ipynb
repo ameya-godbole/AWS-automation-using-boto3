{
 "cells": [
  {
   "cell_type": "code",
   "execution_count": 21,
   "id": "6fddc481",
   "metadata": {},
   "outputs": [],
   "source": [
    "import boto3"
   ]
  },
  {
   "cell_type": "code",
   "execution_count": 22,
   "id": "692784d4",
   "metadata": {},
   "outputs": [],
   "source": [
    "#Creating session and resource\n",
    "\n",
    "main_cons = boto3.session.Session(profile_name='root')\n",
    "ec2_cons = main_cons.resource(service_name='ec2', region_name='us-east-1')\n",
    "ec2_con_client = main_cons.client(service_name='ec2', region_name='us-east-1')"
   ]
  },
  {
   "cell_type": "code",
   "execution_count": 23,
   "id": "584fddaf",
   "metadata": {},
   "outputs": [
    {
     "name": "stdout",
     "output_type": "stream",
     "text": [
      "['i-0f80e9716482055c4', 'i-082e78bba09d82dbf']\n"
     ]
    }
   ],
   "source": [
    "all_instances_ids=[]\n",
    "for instance in ec2_cons.instances.all():\n",
    "    all_instances_ids.append(instance.id)\n",
    "    \n",
    "print(all_instances_ids)"
   ]
  },
  {
   "cell_type": "code",
   "execution_count": 20,
   "id": "2a97885f",
   "metadata": {},
   "outputs": [
    {
     "name": "stdout",
     "output_type": "stream",
     "text": [
      "starting all instances\n",
      "All your instances are up and running\n"
     ]
    }
   ],
   "source": [
    "# Starting all instances\n",
    "\n",
    "print('starting all instances')\n",
    "ec2_cons.instances.start()\n",
    "\n",
    "# Waiting till the instances are started\n",
    "\n",
    "waiter = ec2_con_client.get_waiter('instance_running')\n",
    "waiter.wait(InstanceIds=all_instances_ids)\n",
    "print('All your instances are up and running')\n"
   ]
  },
  {
   "cell_type": "code",
   "execution_count": null,
   "id": "6eb812fa",
   "metadata": {},
   "outputs": [],
   "source": []
  }
 ],
 "metadata": {
  "kernelspec": {
   "display_name": "Python 3 (ipykernel)",
   "language": "python",
   "name": "python3"
  },
  "language_info": {
   "codemirror_mode": {
    "name": "ipython",
    "version": 3
   },
   "file_extension": ".py",
   "mimetype": "text/x-python",
   "name": "python",
   "nbconvert_exporter": "python",
   "pygments_lexer": "ipython3",
   "version": "3.9.7"
  }
 },
 "nbformat": 4,
 "nbformat_minor": 5
}
